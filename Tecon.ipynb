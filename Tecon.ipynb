{
 "cells": [
  {
   "cell_type": "code",
   "execution_count": 2,
   "id": "dc6676df",
   "metadata": {},
   "outputs": [
    {
     "ename": "NoSuchWindowException",
     "evalue": "Message: no such window: target window already closed\nfrom unknown error: web view not found\n  (Session info: chrome=129.0.6668.90)\nStacktrace:\n\tGetHandleVerifier [0x00007FF6430BB645+29573]\n\t(No symbol) [0x00007FF643030470]\n\t(No symbol) [0x00007FF642EEB6EA]\n\t(No symbol) [0x00007FF642EBFCD5]\n\t(No symbol) [0x00007FF642F6EF67]\n\t(No symbol) [0x00007FF642F87FC1]\n\t(No symbol) [0x00007FF642F670A3]\n\t(No symbol) [0x00007FF642F312DF]\n\t(No symbol) [0x00007FF642F32441]\n\tGetHandleVerifier [0x00007FF6433EC58D+3375821]\n\tGetHandleVerifier [0x00007FF643437987+3684039]\n\tGetHandleVerifier [0x00007FF64342CDAB+3640043]\n\tGetHandleVerifier [0x00007FF64317B7C6+816390]\n\t(No symbol) [0x00007FF64303B77F]\n\t(No symbol) [0x00007FF6430375A4]\n\t(No symbol) [0x00007FF643037740]\n\t(No symbol) [0x00007FF64302659F]\n\tBaseThreadInitThunk [0x00007FF96B0E257D+29]\n\tRtlUserThreadStart [0x00007FF96C2EAF08+40]\n",
     "output_type": "error",
     "traceback": [
      "\u001b[1;31m---------------------------------------------------------------------------\u001b[0m",
      "\u001b[1;31mNoSuchWindowException\u001b[0m                     Traceback (most recent call last)",
      "Cell \u001b[1;32mIn[2], line 12\u001b[0m\n\u001b[0;32m      9\u001b[0m navegador \u001b[38;5;241m=\u001b[39m webdriver\u001b[38;5;241m.\u001b[39mChrome()\n\u001b[0;32m     11\u001b[0m navegador\u001b[38;5;241m.\u001b[39mget(\u001b[38;5;124m\"\u001b[39m\u001b[38;5;124mhttps://teconline.com.br/login\u001b[39m\u001b[38;5;124m\"\u001b[39m)\n\u001b[1;32m---> 12\u001b[0m usuario \u001b[38;5;241m=\u001b[39m navegador\u001b[38;5;241m.\u001b[39mfind_element(By\u001b[38;5;241m.\u001b[39mXPATH, \u001b[38;5;124m'\u001b[39m\u001b[38;5;124m//*[@id=\u001b[39m\u001b[38;5;124m\"\u001b[39m\u001b[38;5;124mroot\u001b[39m\u001b[38;5;124m\"\u001b[39m\u001b[38;5;124m]/div[1]/div[3]/div[2]/div/div/form/div[1]/input\u001b[39m\u001b[38;5;124m'\u001b[39m)\n\u001b[0;32m     13\u001b[0m usuario\u001b[38;5;241m.\u001b[39msend_keys(\u001b[38;5;124m'\u001b[39m\u001b[38;5;124mWSTRNFBN1\u001b[39m\u001b[38;5;124m'\u001b[39m)\n\u001b[0;32m     14\u001b[0m senha \u001b[38;5;241m=\u001b[39m navegador\u001b[38;5;241m.\u001b[39mfind_element(By\u001b[38;5;241m.\u001b[39mXPATH, \u001b[38;5;124m'\u001b[39m\u001b[38;5;124m//*[@id=\u001b[39m\u001b[38;5;124m\"\u001b[39m\u001b[38;5;124mroot\u001b[39m\u001b[38;5;124m\"\u001b[39m\u001b[38;5;124m]/div[1]/div[3]/div[2]/div/div/form/div[2]/input\u001b[39m\u001b[38;5;124m'\u001b[39m)\n",
      "File \u001b[1;32m~\\AppData\\Roaming\\Python\\Python311\\site-packages\\selenium\\webdriver\\remote\\webdriver.py:748\u001b[0m, in \u001b[0;36mWebDriver.find_element\u001b[1;34m(self, by, value)\u001b[0m\n\u001b[0;32m    745\u001b[0m     by \u001b[38;5;241m=\u001b[39m By\u001b[38;5;241m.\u001b[39mCSS_SELECTOR\n\u001b[0;32m    746\u001b[0m     value \u001b[38;5;241m=\u001b[39m \u001b[38;5;124mf\u001b[39m\u001b[38;5;124m'\u001b[39m\u001b[38;5;124m[name=\u001b[39m\u001b[38;5;124m\"\u001b[39m\u001b[38;5;132;01m{\u001b[39;00mvalue\u001b[38;5;132;01m}\u001b[39;00m\u001b[38;5;124m\"\u001b[39m\u001b[38;5;124m]\u001b[39m\u001b[38;5;124m'\u001b[39m\n\u001b[1;32m--> 748\u001b[0m \u001b[38;5;28;01mreturn\u001b[39;00m \u001b[38;5;28mself\u001b[39m\u001b[38;5;241m.\u001b[39mexecute(Command\u001b[38;5;241m.\u001b[39mFIND_ELEMENT, {\u001b[38;5;124m\"\u001b[39m\u001b[38;5;124musing\u001b[39m\u001b[38;5;124m\"\u001b[39m: by, \u001b[38;5;124m\"\u001b[39m\u001b[38;5;124mvalue\u001b[39m\u001b[38;5;124m\"\u001b[39m: value})[\u001b[38;5;124m\"\u001b[39m\u001b[38;5;124mvalue\u001b[39m\u001b[38;5;124m\"\u001b[39m]\n",
      "File \u001b[1;32m~\\AppData\\Roaming\\Python\\Python311\\site-packages\\selenium\\webdriver\\remote\\webdriver.py:354\u001b[0m, in \u001b[0;36mWebDriver.execute\u001b[1;34m(self, driver_command, params)\u001b[0m\n\u001b[0;32m    352\u001b[0m response \u001b[38;5;241m=\u001b[39m \u001b[38;5;28mself\u001b[39m\u001b[38;5;241m.\u001b[39mcommand_executor\u001b[38;5;241m.\u001b[39mexecute(driver_command, params)\n\u001b[0;32m    353\u001b[0m \u001b[38;5;28;01mif\u001b[39;00m response:\n\u001b[1;32m--> 354\u001b[0m     \u001b[38;5;28mself\u001b[39m\u001b[38;5;241m.\u001b[39merror_handler\u001b[38;5;241m.\u001b[39mcheck_response(response)\n\u001b[0;32m    355\u001b[0m     response[\u001b[38;5;124m\"\u001b[39m\u001b[38;5;124mvalue\u001b[39m\u001b[38;5;124m\"\u001b[39m] \u001b[38;5;241m=\u001b[39m \u001b[38;5;28mself\u001b[39m\u001b[38;5;241m.\u001b[39m_unwrap_value(response\u001b[38;5;241m.\u001b[39mget(\u001b[38;5;124m\"\u001b[39m\u001b[38;5;124mvalue\u001b[39m\u001b[38;5;124m\"\u001b[39m, \u001b[38;5;28;01mNone\u001b[39;00m))\n\u001b[0;32m    356\u001b[0m     \u001b[38;5;28;01mreturn\u001b[39;00m response\n",
      "File \u001b[1;32m~\\AppData\\Roaming\\Python\\Python311\\site-packages\\selenium\\webdriver\\remote\\errorhandler.py:229\u001b[0m, in \u001b[0;36mErrorHandler.check_response\u001b[1;34m(self, response)\u001b[0m\n\u001b[0;32m    227\u001b[0m         alert_text \u001b[38;5;241m=\u001b[39m value[\u001b[38;5;124m\"\u001b[39m\u001b[38;5;124malert\u001b[39m\u001b[38;5;124m\"\u001b[39m]\u001b[38;5;241m.\u001b[39mget(\u001b[38;5;124m\"\u001b[39m\u001b[38;5;124mtext\u001b[39m\u001b[38;5;124m\"\u001b[39m)\n\u001b[0;32m    228\u001b[0m     \u001b[38;5;28;01mraise\u001b[39;00m exception_class(message, screen, stacktrace, alert_text)  \u001b[38;5;66;03m# type: ignore[call-arg]  # mypy is not smart enough here\u001b[39;00m\n\u001b[1;32m--> 229\u001b[0m \u001b[38;5;28;01mraise\u001b[39;00m exception_class(message, screen, stacktrace)\n",
      "\u001b[1;31mNoSuchWindowException\u001b[0m: Message: no such window: target window already closed\nfrom unknown error: web view not found\n  (Session info: chrome=129.0.6668.90)\nStacktrace:\n\tGetHandleVerifier [0x00007FF6430BB645+29573]\n\t(No symbol) [0x00007FF643030470]\n\t(No symbol) [0x00007FF642EEB6EA]\n\t(No symbol) [0x00007FF642EBFCD5]\n\t(No symbol) [0x00007FF642F6EF67]\n\t(No symbol) [0x00007FF642F87FC1]\n\t(No symbol) [0x00007FF642F670A3]\n\t(No symbol) [0x00007FF642F312DF]\n\t(No symbol) [0x00007FF642F32441]\n\tGetHandleVerifier [0x00007FF6433EC58D+3375821]\n\tGetHandleVerifier [0x00007FF643437987+3684039]\n\tGetHandleVerifier [0x00007FF64342CDAB+3640043]\n\tGetHandleVerifier [0x00007FF64317B7C6+816390]\n\t(No symbol) [0x00007FF64303B77F]\n\t(No symbol) [0x00007FF6430375A4]\n\t(No symbol) [0x00007FF643037740]\n\t(No symbol) [0x00007FF64302659F]\n\tBaseThreadInitThunk [0x00007FF96B0E257D+29]\n\tRtlUserThreadStart [0x00007FF96C2EAF08+40]\n"
     ]
    }
   ],
   "source": [
    "# criar um navegador\n",
    "import time\n",
    "from selenium import webdriver\n",
    "from selenium.webdriver.chrome.service import Service\n",
    "from webdriver_manager.chrome import ChromeDriverManager\n",
    "import os\n",
    "from selenium.webdriver.common.by import By\n",
    "servico = Service(ChromeDriverManager().install())\n",
    "navegador = webdriver.Chrome()\n",
    "\n",
    "navegador.get(\"https://teconline.com.br/login\")\n",
    "usuario = navegador.find_element(By.XPATH, '//*[@id=\"root\"]/div[1]/div[3]/div[2]/div/div/form/div[1]/input')\n",
    "usuario.send_keys('WSTRNFBN1')\n",
    "senha = navegador.find_element(By.XPATH, '//*[@id=\"root\"]/div[1]/div[3]/div[2]/div/div/form/div[2]/input')\n",
    "senha.send_keys('5566TOR')\n",
    "acessar = navegador.find_element(By.XPATH, '//*[@id=\"root\"]/div[1]/div[3]/div[2]/div/div/form/button')\n",
    "acessar.click()\n",
    "time.sleep(4)\n",
    "navegador.get('https://teconline.com.br/agendamento-container')\n",
    "# Importando o módulo time\n",
    "# Definindo a função de espera para o usuário\n",
    "def aguardar_usuario():\n",
    "# Aguarda por 5 segundos antes de continuar\n",
    "    time.sleep(5)\n",
    "\n",
    "# Chamando a função aguardar_usuario()\n",
    "aguardar_usuario()"
   ]
  },
  {
   "cell_type": "code",
   "execution_count": null,
   "id": "ba4f8304",
   "metadata": {},
   "outputs": [],
   "source": [
    "salvar = navegador.find_element(By.XPATH, '//*[@id=\"root\"]/div[1]/div/div[3]/div[2]/div/div/div[5]/div/div[3]/div/button')\n",
    "\n",
    "salvar.click()\n",
    "\n"
   ]
  }
 ],
 "metadata": {
  "kernelspec": {
   "display_name": "Python 3 (ipykernel)",
   "language": "python",
   "name": "python3"
  },
  "language_info": {
   "codemirror_mode": {
    "name": "ipython",
    "version": 3
   },
   "file_extension": ".py",
   "mimetype": "text/x-python",
   "name": "python",
   "nbconvert_exporter": "python",
   "pygments_lexer": "ipython3",
   "version": "3.11.5"
  }
 },
 "nbformat": 4,
 "nbformat_minor": 5
}
